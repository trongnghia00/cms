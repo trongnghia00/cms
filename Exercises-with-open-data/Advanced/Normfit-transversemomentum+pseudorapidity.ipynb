{
 "cells": [
  {
   "cell_type": "markdown",
   "metadata": {},
   "source": [
    "# Creating a normfit and transverse momentum+pseudorapidity"
   ]
  },
  {
   "cell_type": "markdown",
   "metadata": {},
   "source": [
    "The point of this exercise is to learn to create a normal distribution fit for the data, and to learn what are transverse momentum and pseudorapidity (and how are they linked together). The data used is open data released by the [CMS](https://home.cern/about/experiments/cms) experiment."
   ]
  },
  {
   "cell_type": "markdown",
   "metadata": {},
   "source": [
    "### First the fit"
   ]
  },
  {
   "cell_type": "markdown",
   "metadata": {},
   "source": [
    "Let's begin by loading the needed modules, data and creating a histogram of the data to see the more interesting points (the area for which we want to create the fit)."
   ]
  },
  {
   "cell_type": "code",
   "execution_count": null,
   "metadata": {},
   "outputs": [],
   "source": [
    "# This is needed to create the fit\n",
    "from scipy.stats import norm\n",
    "\n",
    "import pandas as pd\n",
    "import numpy as np\n",
    "import matplotlib.mlab as mlab\n",
    "import matplotlib.pyplot as plt"
   ]
  },
  {
   "cell_type": "code",
   "execution_count": null,
   "metadata": {},
   "outputs": [],
   "source": [
    "# Let's choose Dimuon_DoubleMu.csv \n",
    "data = pd.read_csv('http://opendata.cern.ch/record/545/files/Dimuon_DoubleMu.csv')\n",
    "\n",
    "# And save the invariant masses to iMass\n",
    "iMass = data['M']\n",
    "\n",
    "# Plus draw the histogram\n",
    "n, bins, patches = plt.hist(iMass, 300, facecolor='g')\n",
    "plt.xlabel('Invariant Mass (GeV)')\n",
    "plt.ylabel('Amount')\n",
    "plt.title('Histogram of the invariant masses')\n",
    "\n",
    "plt.show()"
   ]
  },
  {
   "cell_type": "markdown",
   "metadata": {},
   "source": [
    "Let's take a closer look of the bump around 90GeVs."
   ]
  },
  {
   "cell_type": "code",
   "execution_count": null,
   "metadata": {
    "scrolled": true
   },
   "outputs": [],
   "source": [
    "min = 85\n",
    "max = 97\n",
    "\n",
    "# Let's crop the area. croMass now includes all the masses between the values of min and max\n",
    "croMass = iMass[(min < iMass) & (iMass < max)]\n",
    "\n",
    "# Calculate the mean (µ) and standard deviation (sigma) of normal distribution using norm.fit-function from scipy\n",
    "(mu, sigma) = norm.fit(croMass)\n",
    "\n",
    "# Histogram of the cropped data. Note that the data is normalized (density = 1)\n",
    "n, bins, patches = plt.hist(croMass, 300, density = 1, facecolor='g')\n",
    "\n",
    "#mlab.normpdf calculates the normal distribution's y-value with given µ and sigma\n",
    "# let's also draw the distribution to the same image with histogram\n",
    "y = norm.pdf(bins, mu, sigma)\n",
    "l = plt.plot(bins, y, 'r-.', linewidth=3)\n",
    "\n",
    "\n",
    "plt.xlabel('Invarian Mass(GeV)')\n",
    "plt.ylabel('Probability')\n",
    "plt.title(r'$\\mathrm{Histogram \\ and\\ fit,\\ where:}\\ \\mu=%.3f,\\ \\sigma=%.3f$' %(mu, sigma))\n",
    "\n",
    "plt.show()"
   ]
  },
  {
   "cell_type": "markdown",
   "metadata": {},
   "source": [
    "\n",
    "Does the invariant mass distribution follow normal distribution?\n",
    "\n",
    "How does cropping the data affect the distribution? (Try to crop the data with different values of min and max)\n",
    "\n",
    "Why do we need to normalize the data? (Check out of the image changes if you remove the normalisation [density])"
   ]
  },
  {
   "cell_type": "markdown",
   "metadata": {},
   "source": [
    "## And then about transeverse momenta and pseudorapidity"
   ]
  },
  {
   "cell_type": "markdown",
   "metadata": {},
   "source": [
    "Transeverse momentum $p_t$ means the momentum, which is perpendicular to the beam. It can be calculated from the momenta to the x and y directions using vector analysis, but (in most datasets from CMS at least) can be found directly from the loaded data.\n",
    "\n",
    "Pseudorapidity tells the angle between the particle and the beam, although not using any 'classical' angle values. You can see the connection between degree (°) and pseudorapidity from an image a bit later. Pseudorapidity is the column Eta $(\\eta)$ in the loaded data."
   ]
  },
  {
   "cell_type": "markdown",
   "metadata": {},
   "source": [
    "Let's check out what does the distribution of transverse momenta looks like"
   ]
  },
  {
   "cell_type": "code",
   "execution_count": null,
   "metadata": {},
   "outputs": [],
   "source": [
    "# allPt now includes all the transverse momenta\n",
    "allPt = pd.concat([data.pt1, data.pt2]) \n",
    "\n",
    "# concat-command from the pandas module combines (concatenates) the information to a single column\n",
    "# (it returns here a DataFrame -type variable, but it only has a singe unnamed column, so later\n",
    "# we don't have to choose the wanted column from the allPt variable)\n",
    "\n",
    "\n",
    "# And the histogram\n",
    "plt.hist(allPt, bins=400, range = (0,50))\n",
    "plt.xlabel('$p_t$ (GeV)', fontsize = 12)\n",
    "plt.ylabel('Amount', fontsize = 12)\n",
    "plt.title('Histogram of transverse momenta', fontsize = 15)\n",
    "\n",
    "plt.show()"
   ]
  },
  {
   "cell_type": "markdown",
   "metadata": {},
   "source": [
    "Looks like most of the momenta are between 0 and 10. Let's use this to limit the data we're about to draw"
   ]
  },
  {
   "cell_type": "code",
   "execution_count": null,
   "metadata": {},
   "outputs": [],
   "source": [
    "# using the below cond, we only choose the events below that amount (pt < cond)\n",
    "cond = 10\n",
    "\n",
    "smallPt = data[(data.pt1 < cond) & (data.pt2 < cond)]\n",
    "\n",
    "# Let's save all the etas and pts to variables\n",
    "allpPt = pd.concat([smallPt.pt1, smallPt.pt2])\n",
    "allEta = pd.concat([smallPt.eta1, smallPt.eta2])"
   ]
  },
  {
   "cell_type": "code",
   "execution_count": null,
   "metadata": {
    "scrolled": false
   },
   "outputs": [],
   "source": [
    "# and draw a scatterplot\n",
    "\n",
    "plt.scatter(allEta, allpPt, s=1)\n",
    "\n",
    "plt.ylabel('$p_t$ (GeV)', fontsize=13)\n",
    "plt.xlabel('Pseudorapidity ($\\eta$)', fontsize=13)\n",
    "plt.title('Tranverse momenta vs. pseudorapidity', fontsize=15)\n",
    "\n",
    "plt.show()"
   ]
  },
  {
   "cell_type": "markdown",
   "metadata": {},
   "source": [
    "<img src = \"https://upload.wikimedia.org/wikipedia/commons/thumb/9/93/Pseudorapidity.svg/800px-Pseudorapidity.svg.png\"\n",
    "alt = \"Pseudorapiditeetti\" style = \"height: 300px\" align=\"left\">\n",
    "\n",
    "Image on the left tells you the relation between pseudorapidity ($\\eta$) and the angle ($\\theta$). If $\\eta = 0$, then the event is perpendicular to the beam and so on. Look at this picture and compare it to the plot above and try to answers the questions below.\n",
    "\n",
    "### Some questions\n",
    "\n",
    "Why is the scatterplot shaped like it is? And why aren't particles with smaller momentum detected with $\\eta$ being somewhere between -1 and 1?\n",
    "\n",
    "Why is pseudorapidity an interesting concept in the first place?"
   ]
  }
 ],
 "metadata": {
  "kernelspec": {
   "display_name": "Python 3",
   "language": "python",
   "name": "python3"
  },
  "language_info": {
   "codemirror_mode": {
    "name": "ipython",
    "version": 3
   },
   "file_extension": ".py",
   "mimetype": "text/x-python",
   "name": "python",
   "nbconvert_exporter": "python",
   "pygments_lexer": "ipython3",
   "version": "3.6.5"
  }
 },
 "nbformat": 4,
 "nbformat_minor": 2
}

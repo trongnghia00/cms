{
 "cells": [
  {
   "cell_type": "markdown",
   "metadata": {},
   "source": [
    "# Data and sounds - between science and art"
   ]
  },
  {
   "cell_type": "markdown",
   "metadata": {},
   "source": [
    "There is an interesting relationship between art and science, one from which the whole humanity has benefitted throughout history. In this notebook we take a look at how one might create sound from some information that was never meant for such a purpose, unlike musical compositions. Music and sounds in their rawest form are simply pressure waves that transmit certain information to our brains, beautiful though that information might be. If you change the information, you change the sound you hear.\n",
    "\n",
    "For further reading, how about [researchers making music from LHC to learn more about the underlying physics](https://phys.org/news/2017-05-lhc-piano-music.html) or listening to some [sonificated collisions?](https://www.youtube.com/watch?v=gPmQcviT-R4)"
   ]
  },
  {
   "cell_type": "markdown",
   "metadata": {},
   "source": [
    "### Import basics"
   ]
  },
  {
   "cell_type": "code",
   "execution_count": null,
   "metadata": {},
   "outputs": [],
   "source": [
    "import pandas as pd\n",
    "import numpy as np\n",
    "import matplotlib.pyplot as plt\n",
    "\n",
    "from IPython import display\n",
    "\n",
    "%matplotlib inline"
   ]
  },
  {
   "cell_type": "code",
   "execution_count": null,
   "metadata": {},
   "outputs": [],
   "source": [
    "# Data with two resultant muons.\n",
    "\n",
    "muons = pd.read_csv('http://opendata.cern.ch/record/545/files/Dimuon_DoubleMu.csv')"
   ]
  },
  {
   "cell_type": "markdown",
   "metadata": {},
   "source": [
    "### Creating sound"
   ]
  },
  {
   "cell_type": "markdown",
   "metadata": {},
   "source": [
    "Sounds we hear are waves, so let's create a sine wave of desired properties as the baseline. The one given below is just an example that you can try to modify however you wish."
   ]
  },
  {
   "cell_type": "code",
   "execution_count": null,
   "metadata": {},
   "outputs": [],
   "source": [
    "lngth = 40; base_freq = 220; rate = 44100\n",
    "ts = np.arange(0, lngth, step=lngth/2/rate)\n",
    "sweep = np.sqrt((lngth-ts)) * (np.sin(base_freq*ts**2) + np.sin(base_freq*np.power(2, 5/12)*ts**2))\n",
    "\n",
    "display.Audio(sweep, rate=rate/5)"
   ]
  },
  {
   "cell_type": "markdown",
   "metadata": {},
   "source": [
    "To make it more interesting, we now start to manipulate our data to create something similar. If the data isn't a wave, how shall we make one out of it?"
   ]
  },
  {
   "cell_type": "code",
   "execution_count": null,
   "metadata": {},
   "outputs": [],
   "source": [
    "# Check out what the data looks like.\n",
    "\n",
    "plt.figure(figsize = (15,5))\n",
    "plt.hist(muons.M, bins = 500, range=(0,130))\n",
    "plt.xlabel(\"Invariant mass (GeV)\", fontsize = 15)\n",
    "plt.ylabel(\"Number of events \\n\", fontsize = 15)\n",
    "plt.show()"
   ]
  },
  {
   "cell_type": "markdown",
   "metadata": {},
   "source": [
    "Here we take the invariant masses from the data, sort them into bins like in the histogram above and use the relative sizes of those bins to amplify the basewave, thus creating a sound that seems to kind of \"crawl\" along the shape of our data. When you've done the basics in this notebook, how about trying out some other variables in the data, like energy or momenta?"
   ]
  },
  {
   "cell_type": "code",
   "execution_count": null,
   "metadata": {},
   "outputs": [],
   "source": [
    "cut = muons.M\n",
    "lngth = len(cut); base_freq = 440; rate = 44100/2"
   ]
  },
  {
   "cell_type": "code",
   "execution_count": null,
   "metadata": {},
   "outputs": [],
   "source": [
    "hist, edges = np.histogram(cut, bins = 500)"
   ]
  },
  {
   "cell_type": "code",
   "execution_count": null,
   "metadata": {},
   "outputs": [],
   "source": [
    "a = []\n",
    "\n",
    "for x in range(0, len(hist)):\n",
    "    b = hist[x]*np.ones(hist[x])\n",
    "    a = np.append(a,b)"
   ]
  },
  {
   "cell_type": "code",
   "execution_count": null,
   "metadata": {},
   "outputs": [],
   "source": [
    "ts = cut.sort_values()"
   ]
  },
  {
   "cell_type": "code",
   "execution_count": null,
   "metadata": {},
   "outputs": [],
   "source": [
    "# sweep = np.sqrt((lngth-ts)) * (np.sin(base_freq*ts**2) + np.sin(base_freq*np.power(2, 5/12)*ts**2))\n",
    "# sweep = a * (np.sin(base_freq*ts**2) + np.sin(base_freq*np.power(2, 5/12)*ts**2))\n",
    "# sweep = a * (np.sin(base_freq*ts**2) + np.sin(base_freq*np.power(2, 5/12)*ts**2) \n",
    "#            + np.cos(base_freq*np.power(2, 5/12)*ts**2))\n",
    "# Here are some other waves for the base, as an example.\n",
    "\n",
    "sweep = a * np.sin(base_freq*ts**2)\n",
    "display.Audio(sweep, rate=rate)"
   ]
  },
  {
   "cell_type": "markdown",
   "metadata": {},
   "source": [
    "Does the sound resemble anything? Can you hear how certain mass ranges differ from each other? What happens if you try out different values for rates or basewaves?"
   ]
  },
  {
   "cell_type": "markdown",
   "metadata": {},
   "source": [
    "Here's also a picture of the wave we just heard. How does it compare to the histogram above?"
   ]
  },
  {
   "cell_type": "code",
   "execution_count": null,
   "metadata": {},
   "outputs": [],
   "source": [
    "plt.figure(figsize = (200,10)) \n",
    "x = np.linspace(0, 1000, len(cut))\n",
    "plt.plot(x,sweep)\n",
    "plt.show()"
   ]
  }
 ],
 "metadata": {
  "kernelspec": {
   "display_name": "Python 3",
   "language": "python",
   "name": "python3"
  },
  "language_info": {
   "codemirror_mode": {
    "name": "ipython",
    "version": 3
   },
   "file_extension": ".py",
   "mimetype": "text/x-python",
   "name": "python",
   "nbconvert_exporter": "python",
   "pygments_lexer": "ipython3",
   "version": "3.6.5"
  }
 },
 "nbformat": 4,
 "nbformat_minor": 2
}

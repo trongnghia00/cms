{
 "cells": [
  {
   "cell_type": "markdown",
   "metadata": {},
   "source": [
    "## An example notebook of how to use animations "
   ]
  },
  {
   "cell_type": "markdown",
   "metadata": {},
   "source": [
    "One of the ways to use animations in notebooks is to just embed them with html. This works (at least) with .gif and .mp4 formats and below is an example of this. "
   ]
  },
  {
   "cell_type": "markdown",
   "metadata": {},
   "source": [
    "\n",
    "<video width = \"648\" height=\"380\" src=\"https://i.imgur.com/ANP4cBj.mp4\" controls loop>"
   ]
  },
  {
   "cell_type": "markdown",
   "metadata": {},
   "source": [
    "Another kind of animation is to generate it yourself. Let's create an animation from CMS's open data to see how the histogram changes when the amount of data increases."
   ]
  },
  {
   "cell_type": "markdown",
   "metadata": {},
   "source": [
    "NOTE: We'd recommend **NOT** use plotly with jupyter. Slows down _dramatically_ to the point nothing can be done."
   ]
  },
  {
   "cell_type": "code",
   "execution_count": null,
   "metadata": {},
   "outputs": [],
   "source": [
    "# All the required modules\n",
    "\n",
    "import matplotlib.pyplot as plt\n",
    "import matplotlib.animation\n",
    "import pandas as pd\n",
    "\n",
    "# This is needed to make the animation easily accessible and more pretty\n",
    "from IPython.display import HTML\n"
   ]
  },
  {
   "cell_type": "code",
   "execution_count": null,
   "metadata": {
    "scrolled": false
   },
   "outputs": [],
   "source": [
    "data = pd.read_csv('http://opendata.cern.ch/record/545/files/Dimuon_DoubleMu.csv')\n",
    "\n",
    "iMass = data.M"
   ]
  },
  {
   "cell_type": "code",
   "execution_count": null,
   "metadata": {},
   "outputs": [],
   "source": [
    "# Let's define the function that's going to upgrade the histogram\n",
    "# variable num is basically the frame number\n",
    "# The way this works is that this function calculates a new histogram for each frame \n",
    "\n",
    "def updt_hist(num, iMass):\n",
    "    plt.cla()\n",
    "    axes = plt.gca()\n",
    "    axes.set_ylim(0,8000)\n",
    "    axes.set_xlim(0,200)\n",
    "    plt.hist(iMass[:num*480], bins = 350)\n",
    "    "
   ]
  },
  {
   "cell_type": "markdown",
   "metadata": {},
   "source": [
    "Cells including animations are $\\Large \\textbf{  slow  }$ to run. The more frames the more time it takes to run, as it has to generate each frame."
   ]
  },
  {
   "cell_type": "code",
   "execution_count": null,
   "metadata": {},
   "outputs": [],
   "source": [
    "%%capture\n",
    "fig = plt.figure()\n",
    " \n",
    "# fargs tells which variables the function (updt_hist) is going to take in, the empty variable is required\n",
    "# so the program knows that there's two variables used in the function. The other one is automatically\n",
    "# the current frame\n",
    "anim = matplotlib.animation.FuncAnimation(fig, updt_hist, frames = 200, fargs=(iMass, ))\n",
    "\n",
    "# anim.to_jshtml() changes the animation to (javascript)html, so it can be shown on Notebook\n",
    "HTML(anim.to_jshtml())"
   ]
  },
  {
   "cell_type": "markdown",
   "metadata": {},
   "source": [
    "The above cell doesn't give output because of the ```%%capture``` -magic command. This is done because otherwise we'd get two different pictures of the animation. So just to make things look more nice."
   ]
  },
  {
   "cell_type": "code",
   "execution_count": null,
   "metadata": {
    "scrolled": false
   },
   "outputs": [],
   "source": [
    "HTML(anim.to_jshtml())"
   ]
  }
 ],
 "metadata": {
  "kernelspec": {
   "display_name": "Python 3",
   "language": "python",
   "name": "python3"
  },
  "language_info": {
   "codemirror_mode": {
    "name": "ipython",
    "version": 3
   },
   "file_extension": ".py",
   "mimetype": "text/x-python",
   "name": "python",
   "nbconvert_exporter": "python",
   "pygments_lexer": "ipython3",
   "version": "3.6.4"
  }
 },
 "nbformat": 4,
 "nbformat_minor": 2
}

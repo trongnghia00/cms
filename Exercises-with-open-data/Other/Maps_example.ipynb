{
 "cells": [
  {
   "cell_type": "markdown",
   "metadata": {},
   "source": [
    "## An example notebook of how to use (heat)maps with Python"
   ]
  },
  {
   "cell_type": "markdown",
   "metadata": {},
   "source": [
    "In this notebook you will see an example of using maps. The data used is openly available at https://www.opendatani.gov.uk. The goal of this example is to plot a heatmap of trees with over 90cm diameter in Belfast and with their condition being either \"Dead\" or \"Poor\"."
   ]
  },
  {
   "cell_type": "code",
   "execution_count": null,
   "metadata": {
    "scrolled": false
   },
   "outputs": [],
   "source": [
    "# First the import to be able to read csv-format data\n",
    "import pandas as pd"
   ]
  },
  {
   "cell_type": "code",
   "execution_count": null,
   "metadata": {
    "scrolled": true
   },
   "outputs": [],
   "source": [
    "data = pd.read_csv('http://www.belfastcity.gov.uk/nmsruntime/saveasdialog.aspx?lID=14543&sID=2430')\n",
    "\n",
    "data.head(10)"
   ]
  },
  {
   "cell_type": "code",
   "execution_count": null,
   "metadata": {},
   "outputs": [],
   "source": [
    "# Folium module includes maps, and HeatMap is needed to generate a heatmap\n",
    "import folium\n",
    "from folium.plugins import HeatMap"
   ]
  },
  {
   "cell_type": "code",
   "execution_count": null,
   "metadata": {},
   "outputs": [],
   "source": [
    "# Choose the relevant data\n",
    "diam = data[(data['DIAMETERinCENTIMETRES'] > 90) & ((diam['CONDITION'] == 'Dead') | (data['CONDITION'] == 'Poor'))]\n"
   ]
  },
  {
   "cell_type": "code",
   "execution_count": null,
   "metadata": {},
   "outputs": [],
   "source": [
    "# Folium's HeatMap-function requires the coordinates to be pairs of coordinates in a list: [[LAT,LON]]\n",
    "coords = []\n",
    "\n",
    "# Let's iterate thru the dataframe that has the data we want and append the coordinates to coords-list\n",
    "for index, row in diam.iterrows():\n",
    "    coords.append([row['LATITUDE'],row['LONGITUDE']])"
   ]
  },
  {
   "cell_type": "code",
   "execution_count": null,
   "metadata": {},
   "outputs": [],
   "source": [
    "# m is now a folium.Map, with center being at [54.5,-5.85] (Belfast), tiles changes the mapstyle. With world_copy_jump = True \n",
    "# the map is scrollable all the way around and the data moves with it as well\n",
    "# control_scale = True shows the scale at the bottom left\n",
    "m = folium.Map([54.5, -5.85], tiles='openstreetmap', zoom_start=10, world_copy_jump = True, control_scale = True)\n",
    "\n",
    "# Generates the heatmap, with each node being radius 15, and a list of coordinates being the first argument.\n",
    "# add_to(map) tells you to which map the heatmap layer is going to be added to\n",
    "HeatMap(coords, radius = 15).add_to(m)\n",
    "\n",
    "m"
   ]
  }
 ],
 "metadata": {
  "kernelspec": {
   "display_name": "Python 3",
   "language": "python",
   "name": "python3"
  },
  "language_info": {
   "codemirror_mode": {
    "name": "ipython",
    "version": 3
   },
   "file_extension": ".py",
   "mimetype": "text/x-python",
   "name": "python",
   "nbconvert_exporter": "python",
   "pygments_lexer": "ipython3",
   "version": "3.6.4"
  }
 },
 "nbformat": 4,
 "nbformat_minor": 2
}

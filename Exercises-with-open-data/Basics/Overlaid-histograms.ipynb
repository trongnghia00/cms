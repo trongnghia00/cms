{
 "cells": [
  {
   "cell_type": "markdown",
   "metadata": {},
   "source": [
    "# Importing a CMS open data file and creating overlaid histograms to analyze data"
   ]
  },
  {
   "cell_type": "markdown",
   "metadata": {},
   "source": [
    "This activity will help you practice with Jupyter Notebook. It is recommended that you select *Kernel $\\rightarrow$ Restart & Clear Output* before going through the notebook. This way you may start fresh without previous outputs.\n",
    "\n",
    "Select a data file to analyze from [opendata.cern.ch](http://opendata.cern.ch/record/545).\n",
    "For the example, download Dimuon_DoubleMu.csv and save it to a folder named *Data*. Note, there are other files available, but the file must be comma separated values (.csv). If the file name has spaces between the words replace them with underscores.\n",
    "\n",
    "Boxes, like this, that give instruction but not code, can be entered by pressing \"b\" and selecting \"Markdown\" from the dropdown menu above. To enter code, select \"Code\" from the dropdown menu. Cell content may be copied from other sources, pasted and edited.\n",
    "\n",
    "First, you will need to import the packages pandas and matplotlib.pyplot to be able to read files and plot histogram."
   ]
  },
  {
   "cell_type": "code",
   "execution_count": null,
   "metadata": {},
   "outputs": [],
   "source": [
    "import pandas\n",
    "import matplotlib.pyplot as plt\n",
    "%matplotlib inline"
   ]
  },
  {
   "cell_type": "markdown",
   "metadata": {},
   "source": [
    "After entering a code box, press *Ctrl + Enter* at the same time to run the code. An asterisk will appear in the *In[ ]* while the command is being processed. Wait until a number appears in that location before proceeding. \n",
    "Possible error messages will appear in pink and will indicate information regarding the error. \n",
    "\n",
    "To use the file you have downloaded, it must be saved into a variable. Type the file location and name exactly as it appears on your computer. In this example, the file is located one directory up in a folder named *Data*. The path is therefore  *../../Data/Dimuon_DoubleMu.csv*.  \n",
    "\n",
    "Save the data into variable *dataset* and check the contents of the first 5 rows."
   ]
  },
  {
   "cell_type": "code",
   "execution_count": null,
   "metadata": {
    "scrolled": true
   },
   "outputs": [],
   "source": [
    "dataset = pandas.read_csv('../../Data/Dimuon_DoubleMu.csv')\n",
    "\n",
    "dataset.head()"
   ]
  },
  {
   "cell_type": "markdown",
   "metadata": {},
   "source": [
    "For the given example, the invariant mass is of particular interest. Save the invariant mass column from the *dataset* into a variable *invariant_mass* by using the column heading as it appears in the table, e.g. *M*. If your data set does not contain invariant masses by default you must first [calculate them](https://github.com/cms-opendata-education/cms-jupyter-materials-english/blob/master/Exercises-with-open-data/Calculate-invariant-mass.ipynb). Plot a histogram, stating which variable to plot, setting the number of bins and range.\n",
    "In the example below, we use 50 bins and plot from 0 to 200 GeV. "
   ]
  },
  {
   "cell_type": "code",
   "execution_count": null,
   "metadata": {},
   "outputs": [],
   "source": [
    "invariant_mass = dataset['M']\n",
    "\n",
    "plt.hist(invariant_mass, bins=50, range=(0,200))\n",
    "plt.show()"
   ]
  },
  {
   "cell_type": "markdown",
   "metadata": {},
   "source": [
    "The number of bins and range can be varied in order to analyze the data more clearly. Below are commands to replot the graph with a title and axis labels."
   ]
  },
  {
   "cell_type": "code",
   "execution_count": null,
   "metadata": {},
   "outputs": [],
   "source": [
    "plt.xlabel('Invariant mass [GeV]')\n",
    "plt.ylabel('Number of events')\n",
    "plt.title('The histogram of the invariant masses of two muons \\n')\n",
    "\n",
    "plt.hist(invariant_mass, bins=50, range=(0,200))\n",
    "plt.show()"
   ]
  },
  {
   "cell_type": "markdown",
   "metadata": {},
   "source": [
    "The graph above demonstrates background events below approximately 50 GeV and a peak at approximately 90 GeV.\n",
    "\n",
    "\n",
    "Mathematical operations, such as addition or subtraction, may be performed on the data by defining new variables which allows the data to be further sorted. In the example below, the original data is divided into two new data sets based on the energy of the collision. Each data set is given a name and organized in this case by high energy (> 150 GeV), and low energy (< 150 GeV).\n"
   ]
  },
  {
   "cell_type": "code",
   "execution_count": null,
   "metadata": {},
   "outputs": [],
   "source": [
    "newsethighE = dataset[dataset.E1+dataset.E2>150]\n",
    "newsetlowE = dataset[dataset.E1+dataset.E2<150]"
   ]
  },
  {
   "cell_type": "markdown",
   "metadata": {},
   "source": [
    "The new data sets can be plotted separately as was done previously or on one plot. The two histograms can be overlaid by adjusting the transparency using the alpha command. Labels for each data set are included in the legend located in the upper right corner. We can also change the range to focus on the event of interest."
   ]
  },
  {
   "cell_type": "code",
   "execution_count": null,
   "metadata": {},
   "outputs": [],
   "source": [
    "plt.xlabel('Invariant mass [GeV]')\n",
    "plt.ylabel('Number of events')\n",
    "plt.title('The invariant masses of two muons comparing high and low energy\\n')\n",
    "plt.hist(newsetlowE ['M'], bins=50, range=(80,100),alpha=0.5, label='Low E')\n",
    "plt.hist(newsethighE ['M'], bins=50, range=(80,100),alpha=0.5, label='High E')\n",
    "plt.legend (loc='upper right')\n",
    "plt.show()"
   ]
  },
  {
   "cell_type": "markdown",
   "metadata": {},
   "source": [
    "What do you think will happen if you change the value of energy limit? Try it out by changing the limits in *newsethighE* and *newsetlowE*."
   ]
  }
 ],
 "metadata": {
  "kernelspec": {
   "display_name": "Python 3",
   "language": "python",
   "name": "python3"
  },
  "language_info": {
   "codemirror_mode": {
    "name": "ipython",
    "version": 3
   },
   "file_extension": ".py",
   "mimetype": "text/x-python",
   "name": "python",
   "nbconvert_exporter": "python",
   "pygments_lexer": "ipython3",
   "version": "3.6.5"
  }
 },
 "nbformat": 4,
 "nbformat_minor": 1
}

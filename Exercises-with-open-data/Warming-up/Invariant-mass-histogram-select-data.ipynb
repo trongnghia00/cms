{
 "cells": [
  {
   "cell_type": "markdown",
   "metadata": {},
   "source": [
    "### Background "
   ]
  },
  {
   "cell_type": "markdown",
   "metadata": {},
   "source": [
    "This notebook includes an example exercise about observing how the amount of data affects to the histogram made of that data. The exercise consists of a theory part and a practical part."
   ]
  },
  {
   "cell_type": "markdown",
   "metadata": {},
   "source": [
    "# Example: Invariant mass histogram"
   ]
  },
  {
   "cell_type": "markdown",
   "metadata": {},
   "source": [
    "In this exercise the CMS (Compact Muon Solenoid) detector and the concept of invariant mass is introduced. With the real data collected by CMS detector the effect of the amount of data to the histogram made of that data is observed."
   ]
  },
  {
   "cell_type": "markdown",
   "metadata": {},
   "source": [
    "### CMS detector"
   ]
  },
  {
   "cell_type": "markdown",
   "metadata": {},
   "source": [
    "At CERN particles are accelerated and collided with the LHC (Large Hadron Collider) particle accelerator. With the CMS detector the new particles created in these collisions can be observed and measured. In the image below is the opened CMS detector.\n",
    "\n",
    "<img src=\"../../Images/CMS.jpg\" alt=\"CMS-ilmaisin avattuna\" style=\"height: 400px\">\n",
    "\n",
    "(Image: Domenico Salvagnin, https://commons.wikimedia.org/wiki/File:CMS@CERN.jpg)\n",
    "<br>\n",
    "<br>\n",
    "<br>"
   ]
  },
  {
   "cell_type": "markdown",
   "metadata": {},
   "source": [
    "### Invariant mass"
   ]
  },
  {
   "cell_type": "markdown",
   "metadata": {},
   "source": [
    "Invariant mass $M$ is a value that can be calculated from the results of measurements of the CMS detector. Invariant mass is a mathematical concept, not a physical mass.\n",
    "\n",
    "For example let's take a situation where a particle A decays to two particles B and C. The invariant mass of the two particles B and C is determined by the equation\n",
    "\n",
    "$$ M = \\sqrt{(E_1 + E_2)^2-(\\vec{p_1} + \\vec{p_2})^2}, $$\n",
    "\n",
    "where $E_1$ and $E_2$ are the energies of the decay products and $\\vec{p_1}$ and $\\vec{p_2}$ the momenta of the decay products.\n",
    "\n",
    "The invariant mass can be used to examine the excistence of the particle A. If particles B and C stem from the decay of the particle A, the invariant mass of them equals the physical mass of the particle A. If particles B and C stem from some other process than decay of A (there are enormous amount of processes in particle collisions), the invariant mass of B and C is something else.\n",
    "\n",
    "So by determing the energies and the momenta of B and C the invariant mass to them can be calculated. This can be done to large amount of particle pairs. By doing that the excistence of the particle A might be proved.\n",
    "\n",
    "In this excercise the values of invariant masses are already calculated."
   ]
  },
  {
   "cell_type": "markdown",
   "metadata": {},
   "source": [
    "### Let's try!"
   ]
  },
  {
   "cell_type": "markdown",
   "metadata": {},
   "source": [
    "Let's start to observe the real data collected by CMS detector. We will focus on the decay of Z-boson to two muons (muon and antimuon).\n",
    "\n",
    "We will use the data collected in 2011 [1]. From the primary dataset 10851 collision events where have been exactly two muons have been selected to the file \"Zmumu_Run2011A_masses.csv\". (The selection has been done with the code that is openly available at https://github.com/tpmccauley/dimuon-filter.)\n",
    "\n",
    "The file includes readily calculated values of the invariant masses of two muons for the 10851 events. A histogram is a great tool for observing the values. The histogram reperesents how many values of $M$ there have been at certain range of values.\n",
    "\n",
    "In the next exercise the mission is to examine __how the amount of data used affects to the histogram made of that data.__\n",
    "<br>\n",
    "<br>\n",
    "<br>\n",
    "[1]  CMS collaboration (2016). DoubleMu primary dataset in AOD format from RunA of 2011 (/DoubleMu/Run2011A-12Oct2013-v1/AOD). CERN Open Data Portal. DOI: [10.7483/OPENDATA.CMS.RZ34.QR6N](http://doi.org/10.7483/OPENDATA.CMS.RZ34.QR6N)."
   ]
  },
  {
   "cell_type": "markdown",
   "metadata": {},
   "source": [
    "### 1) Getting the file and the masses"
   ]
  },
  {
   "cell_type": "markdown",
   "metadata": {},
   "source": [
    "Let's start with the code where the needed Python modules are imported and the data file is gotten. Explore the comments in the code and run the code by first clicking the cell active and then pressing _Ctrl_ + _Enter_. After that you can move to the part two. You might get a warning related to _matplotlib_ module but you don't have to worry about that."
   ]
  },
  {
   "cell_type": "code",
   "execution_count": null,
   "metadata": {},
   "outputs": [],
   "source": [
    "# Import the needed modules. Pandas is for the data-analysis, numpy for scientific calculation\n",
    "# and matplotlib.pyplot for making plots. Modules are named as pd, np and plt.\n",
    "import pandas as pd\n",
    "import numpy as np\n",
    "import matplotlib.pyplot as plt\n",
    "\n",
    "# Create a new DataFrame structure from the file \"Zmumu_Run2011A_masses.csv\"\n",
    "dataset = pd.read_csv('../../Data/Zmumu_Run2011A_masses.csv')\n",
    "\n",
    "# Create a Series structure (basically a list) and name it to \"invariant_mass\".\n",
    "# Save the column \"M\" from the \"dataset\" to the variable \"invariant_mass\".\n",
    "invariant_mass = dataset['M']\n",
    "\n",
    "# Create an empty list \"selected\", where the selected amount of invariant masses will be saved.\n",
    "selected = []"
   ]
  },
  {
   "cell_type": "markdown",
   "metadata": {},
   "source": [
    "### Selecting the amount of data"
   ]
  },
  {
   "cell_type": "markdown",
   "metadata": {},
   "source": [
    "The code below asks how many events will be selected to the histogram. After that the code plots the histogram of the selected invariant masses.\n",
    "\n",
    "Run the code by clicking the code cell active and by pressing _Ctrl_ + _Enter_. You can re-run the code and enter the new amount of data by pressing _Ctrl_ + _Enter_ again.\n",
    "\n",
    "Examine how the amount of the data used affects to the histogram. Which values of the invariant mass there seems to be most? What you can conclude from those values?\n",
    "\n",
    "By examining the code predict what will happen if you enter a number bigger than 10851 for the asked amount of data. Try your prediction by running the code."
   ]
  },
  {
   "cell_type": "code",
   "execution_count": null,
   "metadata": {},
   "outputs": [],
   "source": [
    "# Ask user to enter the number of events wanted. Save the number to variable \"amount\".\n",
    "amount = int(input('Enter the amount of events wanted: '))\n",
    "\n",
    "# Check if user have selected more events than there are available.\n",
    "# If not select that amount of invariant masses from the variable \"invariant_mass\".\n",
    "# Masses will be selected in order.\n",
    "if amount > 10851:\n",
    "    print('''You have tried to select more data than there are available in the file.\n",
    "The histogram couldn't be drawn. The maximum amount of the data is 10851.''')\n",
    "else:\n",
    "    for f in range(amount):\n",
    "        M = invariant_mass[f]\n",
    "        selected.append(M)\n",
    "    print('\\n You selected {} invariant mass values from the whole data.'.format(amount))\n",
    "\n",
    "# Jupyter Notebook uses \"magic functions\". With this function it is possible to plot\n",
    "# the histogram straight to notebook.\n",
    "%matplotlib inline\n",
    "\n",
    "# Create the histogram from data in variable \"selected\". Set bins and range to histogram.\n",
    "plt.hist(selected, bins=120, range=(60,120))\n",
    "\n",
    "# Set y-axis from 0 to 800.\n",
    "axes = plt.gca()\n",
    "axes.set_ylim([0,800])\n",
    "\n",
    "# Name the axises and give the title.\n",
    "plt.xlabel('Invariant mass [GeV]')\n",
    "plt.ylabel('Number of events')\n",
    "plt.title('Histogram of invariant masses of two muons\\n')\n",
    "\n",
    "# Empty the variable \"selected\" for the next run.\n",
    "selected = []"
   ]
  },
  {
   "cell_type": "markdown",
   "metadata": {},
   "source": [
    "### 3) Evolving of the histogram when the amount of data increases"
   ]
  },
  {
   "cell_type": "markdown",
   "metadata": {},
   "source": [
    "Let's observe with series of images how the histogram will change when the amount of data are increased.\n",
    "\n",
    "The code below will create 11 different histograms of invariant masses from the same data. Between every image 1000 more values of invariant masses are taken to the histogram. Run the code by clicking the code cell active and pressing _Ctrl_ + _Enter_. Observe the images and explain what you see."
   ]
  },
  {
   "cell_type": "code",
   "execution_count": null,
   "metadata": {
    "scrolled": false
   },
   "outputs": [],
   "source": [
    "# Loop where a new histogram is plotted after 1000 events until 10000 events have reached.\n",
    "for a in range(0,10851,1000):\n",
    "    T = invariant_mass[0:a]\n",
    "    \n",
    "    %matplotlib inline\n",
    "    plt.hist(T, bins=120, range=(60,120))\n",
    "    \n",
    "    # Set y-axis from 0 to 800.\n",
    "    axes = plt.gca()\n",
    "    axes.set_ylim([0,800])\n",
    "    \n",
    "    plt.xlabel('Invariant mass [GeV]')\n",
    "    plt.ylabel('Number of events')\n",
    "    plt.title('Histogram of invariant masses of two muons for {} events\\n'.format(len(T)))\n",
    "    plt.show()"
   ]
  }
 ],
 "metadata": {
  "kernelspec": {
   "display_name": "Python 3",
   "language": "python",
   "name": "python3"
  },
  "language_info": {
   "codemirror_mode": {
    "name": "ipython",
    "version": 3
   },
   "file_extension": ".py",
   "mimetype": "text/x-python",
   "name": "python",
   "nbconvert_exporter": "python",
   "pygments_lexer": "ipython3",
   "version": "3.6.5"
  }
 },
 "nbformat": 4,
 "nbformat_minor": 1
}
